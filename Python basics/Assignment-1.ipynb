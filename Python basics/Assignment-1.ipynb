{
 "cells": [
  {
   "cell_type": "markdown",
   "id": "3809a0ad",
   "metadata": {},
   "source": [
    "1. In the below elements which of them are values or an expression? eg:- values can be integer or string and expressions will be mathematical operators."
   ]
  },
  {
   "cell_type": "code",
   "execution_count": null,
   "id": "7b734d77",
   "metadata": {},
   "outputs": [],
   "source": [
    "\"\"\"\n",
    "* [expression]\n",
    "\n",
    "'hello' [value]\n",
    "\n",
    "-87.8 [value]\n",
    "\n",
    "- [expression]\n",
    "\n",
    "/ [expression]\n",
    "\n",
    "+  [expression]\n",
    "6 [value]\n",
    "\n",
    "\"\"\""
   ]
  },
  {
   "cell_type": "markdown",
   "id": "9db62098",
   "metadata": {},
   "source": [
    "2. What is the difference between string and variable?"
   ]
  },
  {
   "cell_type": "code",
   "execution_count": null,
   "id": "62769dd8-e549-4908-baa3-e1e4133c28a3",
   "metadata": {},
   "outputs": [],
   "source": [
    "\"\"\"\n",
    "String:a data type used to represent text. \n",
    "it is a sequence of characters showed in single quotes (') or in double quotes (\")\n",
    "eg: 'hello', \"hi\"\n",
    "they are literal values. \n",
    "they contain actual data.\n",
    "\n",
    "Variable: it is a symbolic name used to store values.\n",
    "values can be changed during program excution. \n",
    "eg: name=kusuma \n",
    "'here name is variable holding value as kusuma'\n",
    "they are dynamic in nature. \n",
    "\"\"\"\"\n"
   ]
  },
  {
   "cell_type": "markdown",
   "id": "dbcc782d",
   "metadata": {},
   "source": [
    "3. Describe three different data types.\n",
    "\n"
   ]
  },
  {
   "cell_type": "code",
   "execution_count": null,
   "id": "231b6c7a-cd44-4ed2-b740-ad92e19dd3f5",
   "metadata": {},
   "outputs": [],
   "source": [
    "\"\"\"\n",
    "integer(int): indicates whole numbers, positive and negative numbers without any deciaml points. \n",
    "eg: 2,-30\n",
    "\n",
    "float(float): indicates numbers that have decimal points. \n",
    "eg: 28.03\n",
    "\n",
    "String(str): indicates sequence of characters in quotes.\n",
    "eg: \"123\" ,'Kusuma'"
   ]
  },
  {
   "cell_type": "markdown",
   "id": "2413eb99",
   "metadata": {},
   "source": [
    "4. What is an expression made up of? What do all expressions do?"
   ]
  },
  {
   "cell_type": "code",
   "execution_count": null,
   "id": "d39c6399",
   "metadata": {},
   "outputs": [],
   "source": [
    "\"\"\"\n",
    "An expression is made up of operands (like variables, constants, or functions) \n",
    "and operators (like +, -, *, /). \n",
    "All expressions evaluate to a value when executed.\n",
    "\"\"\"\""
   ]
  },
  {
   "cell_type": "markdown",
   "id": "9fd49b4f",
   "metadata": {},
   "source": [
    "5. This assignment statements, like spam = 10. What is the difference between an expression and a statement"
   ]
  },
  {
   "cell_type": "code",
   "execution_count": null,
   "id": "a74c0802",
   "metadata": {},
   "outputs": [],
   "source": [
    "\"\"\"\n",
    "An **expression** evaluates to a value (e.g., `2 + 3` evaluates to `5`), \n",
    "while a **statement** performs an action but does not return a value \n",
    "(e.g., `spam = 10` assigns `10` to `spam`). \n",
    "\n",
    "In short:  \n",
    "- Expression: Produces a value.  \n",
    "- Statement: Executes something."
   ]
  },
  {
   "cell_type": "markdown",
   "id": "800b343b",
   "metadata": {},
   "source": [
    "6. After running the following code, what does the variable bacon contain?"
   ]
  },
  {
   "cell_type": "code",
   "execution_count": null,
   "id": "5414fb40-c8a4-44f8-aa1e-d51c662e6971",
   "metadata": {},
   "outputs": [],
   "source": [
    "\"\"\"\"\n",
    "bacon = 22\n",
    "\n",
    " bacon + 1\n",
    "\"\"\"\n",
    "\n",
    "\"\"\"\n",
    "bacon = baocn + 1\n",
    "returns value 23 where as the original value is 22.\n",
    "\"\"\""
   ]
  },
  {
   "cell_type": "markdown",
   "id": "6b30ed57",
   "metadata": {},
   "source": [
    "7. What should the values of the following two terms be?"
   ]
  },
  {
   "cell_type": "code",
   "execution_count": null,
   "id": "e5b251d9-b602-4aa1-be24-b388def10915",
   "metadata": {},
   "outputs": [],
   "source": [
    "\"\"\"\"\n",
    "'spam' + 'spamspam'\n",
    "\n",
    "'spam' * 3\n",
    "\"\"\"\n",
    "\n",
    "\"\"\"\n",
    "spamspamspam\n",
    "\n",
    "spamspamspam\n",
    "\"\"\""
   ]
  },
  {
   "cell_type": "markdown",
   "id": "f61f8544",
   "metadata": {},
   "source": [
    "8. Why is eggs a valid variable name while 100 is invalid?"
   ]
  },
  {
   "cell_type": "code",
   "execution_count": null,
   "id": "7bf1c18f-b26d-40aa-ace4-4aaca14c18ea",
   "metadata": {},
   "outputs": [],
   "source": [
    "\"\"\"\n",
    "egg starts with a letter (e), which is allowed.\n",
    "egg consists only of alphabetic characters, which are valid.\n",
    "\n",
    "100 starts with a number (1), which is not allowed for variable names.\n",
    "A variable name cannot begin with a number, though it can contain numbers after the first character.\n",
    "\"\"\""
   ]
  },
  {
   "cell_type": "markdown",
   "id": "1f84b0a0",
   "metadata": {},
   "source": [
    "9. What three functions can be used to get the integer, floating-point number, or string version of a value?"
   ]
  },
  {
   "cell_type": "code",
   "execution_count": null,
   "id": "5203317e-5f56-4e8f-b101-585f027fa146",
   "metadata": {},
   "outputs": [],
   "source": [
    "\"\"\"\n",
    "int(): Converts a value to an integer.\n",
    "Example: int('42') - 42\n",
    "Works with strings representing whole numbers, or can be used to convert floats to integers.\n",
    "float(): Converts a value to a floating-point number.\n",
    "Example: float('3.14') - 3.14\n",
    "Works with strings or integers, and converts them into a float.\n",
    "str(): Converts a value to a string.\n",
    "Example: str(42) - '42'\n",
    "Can be used to convert integers, floats, or other data types to their string representations.\n",
    "\"\"\""
   ]
  },
  {
   "cell_type": "markdown",
   "id": "5a61a2d7",
   "metadata": {},
   "source": [
    "10. Why does this expression cause an error? How can you fix it?"
   ]
  },
  {
   "cell_type": "code",
   "execution_count": null,
   "id": "f3464dbc",
   "metadata": {},
   "outputs": [],
   "source": [
    "'I have eaten ' + 99 + ' burritos.'\n",
    "\"\"\"\n",
    "\n",
    "\"\"\"\"\"\"\"\n",
    "causes an error because Python is trying to concatenate a string ('I have eaten ') with an integer (99),\n",
    "and we can't directly concatenate a string with an integer in Python.\n",
    "Python raises a TypeError because it doesn't know how to add (concatenate) a string and an integer together.\n",
    "\n",
    "'I have eaten ' + str(99) + ' burritos.'\n",
    "\"\"\""
   ]
  }
 ],
 "metadata": {
  "kernelspec": {
   "display_name": "Python 3 (ipykernel)",
   "language": "python",
   "name": "python3"
  },
  "language_info": {
   "codemirror_mode": {
    "name": "ipython",
    "version": 3
   },
   "file_extension": ".py",
   "mimetype": "text/x-python",
   "name": "python",
   "nbconvert_exporter": "python",
   "pygments_lexer": "ipython3",
   "version": "3.11.5"
  }
 },
 "nbformat": 4,
 "nbformat_minor": 5
}
