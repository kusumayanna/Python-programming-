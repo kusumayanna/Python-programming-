{
 "cells": [
  {
   "cell_type": "markdown",
   "metadata": {
    "id": "-ysdp68Cq1w8"
   },
   "source": [
    " Q.1. What are keywords in python? Using the keyword library, print all the python keywords.\n"
   ]
  },
  {
   "cell_type": "markdown",
   "metadata": {
    "id": "AvkUJ3tTqlCE"
   },
   "source": [
    "Keywords in Python are reserved words that have predefined meanings and cannot be used as identifiers (like variable names, function names, etc.). They are used to define the syntax and structure of the Python language."
   ]
  },
  {
   "cell_type": "code",
   "execution_count": null,
   "metadata": {
    "colab": {
     "base_uri": "https://localhost:8080/"
    },
    "id": "H6QSf3HeqZx1",
    "outputId": "8017bbb9-4959-4f36-cf16-88b521774578"
   },
   "outputs": [
    {
     "name": "stdout",
     "output_type": "stream",
     "text": [
      "Python Keywords:\n",
      "['False', 'None', 'True', 'and', 'as', 'assert', 'async', 'await', 'break', 'class', 'continue', 'def', 'del', 'elif', 'else', 'except', 'finally', 'for', 'from', 'global', 'if', 'import', 'in', 'is', 'lambda', 'nonlocal', 'not', 'or', 'pass', 'raise', 'return', 'try', 'while', 'with', 'yield']\n"
     ]
    }
   ],
   "source": [
    "import keyword\n",
    "\n",
    "# Print all Python keywords\n",
    "print(\"Python Keywords:\")\n",
    "print(keyword.kwlist)\n"
   ]
  },
  {
   "cell_type": "markdown",
   "metadata": {
    "id": "g6bKgxzayZgI"
   },
   "source": [
    " Q.2. What are the rules to create variables in python?\n"
   ]
  },
  {
   "cell_type": "markdown",
   "metadata": {
    "id": "VVovG9BUysre"
   },
   "source": [
    "Rules for Creating Variables in Python\n",
    "Start with a Letter or Underscore (_)\n",
    "\n",
    "Variable names must begin with an alphabetic character (a-z, A-Z) or an underscore (_).\n",
    "Do Not Start with a Number\n",
    "\n",
    "Variables cannot begin with digits (0-9).\n",
    "Use Only Alphabets, Numbers, and Underscores\n",
    "\n",
    "Variable names can only include letters, numbers, and underscores (_). No spaces or special characters (e.g., @, #, $) are allowed.\n",
    "Case Sensitivity\n",
    "\n",
    "Python variable names are case-sensitive. myVariable and MyVariable are different.\n",
    "Avoid Python Keywords\n",
    "\n",
    "Variable names cannot use Python's reserved keywords (e.g., if, else, True, False).\n",
    "Avoid Special Characters and Spaces\n",
    "\n",
    "Variable names should not contain spaces or characters like !, @, #, $.\n",
    "Do Not Use Built-In Function Names\n",
    "\n",
    "Avoid naming variables with names of built-in functions, such as print, len, or input.\n",
    "Be Descriptive (Best Practice)\n",
    "\n",
    "Variable names should clearly indicate the purpose of the variable. Use meaningful names like student_name instead of x."
   ]
  },
  {
   "cell_type": "markdown",
   "metadata": {
    "id": "w_MwqHy_yzaq"
   },
   "source": [
    " Q.3. What are the standards and conventions followed for the nomenclature of variables in\n",
    " python to improve code readability and maintainability?"
   ]
  },
  {
   "cell_type": "markdown",
   "metadata": {
    "id": "UXWal8zlzXzO"
   },
   "source": [
    "Python Variable Naming Standards and Conventions\n",
    "Use Descriptive Names\n",
    "\n",
    "Names should reflect the variable's purpose (e.g., student_name, total_price).\n",
    "Snake Case\n",
    "\n",
    "Use lowercase_with_underscores for variable names (e.g., user_age, total_amount).\n",
    "Avoid Keywords and Built-Ins\n",
    "\n",
    "Do not use reserved keywords or built-in function names (e.g., avoid if, print).\n",
    "Case Sensitivity\n",
    "\n",
    "Python is case-sensitive (Age and age are different).\n",
    "Constants in Uppercase\n",
    "\n",
    "Use ALL_CAPS for constants (e.g., PI, MAX_SPEED).\n",
    "Boolean Variables\n",
    "\n",
    "Prefix with is or has for clarity (e.g., is_active, has_items).\n",
    "Avoid Single Characters\n",
    "\n",
    "Except for loop counters or temporary variables (e.g., i, j).\n",
    "No Abbreviations\n",
    "\n",
    "Use full, clear names (e.g., number_of_students, not num_students)."
   ]
  },
  {
   "cell_type": "markdown",
   "metadata": {
    "id": "LXcCuGU-zlrk"
   },
   "source": [
    "Q.4. What will happen if a keyword is used as a variable name?\n",
    "\n"
   ]
  },
  {
   "cell_type": "markdown",
   "metadata": {
    "id": "JQ9UmVpmzlu8"
   },
   "source": [
    "If a keyword is used as a variable name in Python, the interpreter will raise a SyntaxError because keywords are reserved for specific purposes in the Python language and cannot be used as identifiers (like variable names)."
   ]
  },
  {
   "cell_type": "markdown",
   "metadata": {
    "id": "e2iz8LffzrG_"
   },
   "source": [
    " Q.5. For what purpose def keyword is used?\n"
   ]
  },
  {
   "cell_type": "markdown",
   "metadata": {
    "id": "izLIZefMzxFG"
   },
   "source": [
    "The def keyword in Python is used to define a function. A function is a block of reusable code that performs a specific task and can be executed when called."
   ]
  },
  {
   "cell_type": "markdown",
   "metadata": {
    "id": "_y0_GlAUz1h5"
   },
   "source": [
    " Q.6. What is the operation of this special character ‘\\’?\n"
   ]
  },
  {
   "cell_type": "markdown",
   "metadata": {
    "id": "F-5XhZ6Kz5xy"
   },
   "source": [
    "The special character \\ in Python is called the backslash and is primarily used as an escape character. It allows you to include special characters or represent specific operations in strings and other contexts."
   ]
  },
  {
   "cell_type": "markdown",
   "metadata": {
    "id": "WQQ6Qg27z8l_"
   },
   "source": [
    " Q.7. Give an example of the following conditions:\n",
    " (i)\n",
    " Homogeneous list\n",
    " (ii)\n",
    " (iii)\n",
    " Heterogeneous set\n",
    " Homogeneous tuple"
   ]
  },
  {
   "cell_type": "markdown",
   "metadata": {
    "id": "H2ex7hi00E3D"
   },
   "source": [
    "(i) Homogeneous List\n",
    "A list where all elements are of the same data type.\n",
    "\n",
    "python\n",
    "Copy code\n",
    "homogeneous_list = [1, 2, 3, 4, 5]  \n",
    "(ii) Heterogeneous Set\n",
    "A set where elements can be of different data types.\n",
    "\n",
    "python\n",
    "Copy code\n",
    "heterogeneous_set = {1, \"apple\", 3.14, True}  \n",
    "(iii) Homogeneous Tuple\n",
    "A tuple where all elements are of the same data type.\n",
    "\n",
    "python\n",
    "Copy code\n",
    "homogeneous_tuple = (\"red\", \"green\", \"blue\")  "
   ]
  },
  {
   "cell_type": "markdown",
   "metadata": {
    "id": "juyITsjX0I_P"
   },
   "source": [
    " Q.8. Explain the mutable and immutable data types with proper explanation & examples."
   ]
  },
  {
   "cell_type": "markdown",
   "metadata": {
    "id": "ZSEZ6p_K0rHo"
   },
   "source": [
    "Mutable Data Types\n",
    "A mutable data type is one whose value can be changed or modified after its creation. This means that you can alter the contents of a mutable object without changing its identity (i.e., its memory address).\n",
    "\n",
    "Examples of Mutable Data Types:\n",
    "List: Lists can have their elements modified (added, removed, or changed).\n",
    "\n",
    "Example:\n",
    "python\n",
    "Copy code\n",
    "my_list = [1, 2, 3]\n",
    "my_list[0] = 10\n",
    "print(my_list)\n",
    "Dictionary: You can add, remove, or update key-value pairs in a dictionary.\n",
    "\n",
    "Example:\n",
    "python\n",
    "Copy code\n",
    "my_dict = {\"name\": \"Alice\", \"age\": 25}\n",
    "my_dict[\"age\"] = 26  \n",
    "my_dict[\"city\"] = \"New York\"  \n",
    "print(my_dict)  \n",
    "Set: Sets are mutable, and you can add or remove elements.\n",
    "\n",
    "Example:\n",
    "python\n",
    "Copy code\n",
    "my_set = {1, 2, 3}\n",
    "my_set.add(4)\n",
    "my_set.remove(2)  \n",
    "print(my_set)"
   ]
  },
  {
   "cell_type": "markdown",
   "metadata": {
    "id": "gYfenL6-0tLv"
   },
   "source": [
    "Immutable Data Types\n",
    "An immutable data type is one whose value cannot be changed after it is created. Any modification or change results in the creation of a new object, and the original object remains unchanged.\n",
    "\n",
    "Examples of Immutable Data Types:\n",
    "Tuple: Tuples cannot be altered once they are created. You cannot modify, add, or remove elements from a tuple.\n",
    "\n",
    "Example:\n",
    "python\n",
    "Copy code\n",
    "my_tuple = (1, 2, 3)\n",
    "print(my_tuple)\n"
   ]
  },
  {
   "cell_type": "markdown",
   "metadata": {
    "id": "ploM6k0y1A21"
   },
   "source": [
    " Q.9. Write a code to create the given structure using only for loop."
   ]
  },
  {
   "cell_type": "code",
   "execution_count": null,
   "metadata": {
    "id": "SAoSMSN8RLDk"
   },
   "outputs": [],
   "source": [
    "rows = 5\n",
    "for i in range(1, rows + 1):\n",
    "  print('*' * (2 * i - 1))\n",
    "\n",
    "---\n",
    "\n",
    "\n"
   ]
  },
  {
   "cell_type": "markdown",
   "metadata": {
    "id": "7IrzUFX-1WFd"
   },
   "source": [
    " Q.10. Write a code to create the given structure using while loop.\n",
    " |||||||||\n",
    " |||||||\n",
    " |||||\n",
    " |||\n"
   ]
  },
  {
   "cell_type": "code",
   "execution_count": null,
   "metadata": {
    "id": "snEZZ1Vk01F1"
   },
   "outputs": [],
   "source": [
    "\n",
    "num_pipes = 8\n",
    "while num_pipes > 0:\n",
    "  print('|' * num_pipes)\n",
    "  num_pipes -= 2\n"
   ]
  }
 ],
 "metadata": {
  "colab": {
   "provenance": []
  },
  "kernelspec": {
   "display_name": "Python 3 (ipykernel)",
   "language": "python",
   "name": "python3"
  },
  "language_info": {
   "codemirror_mode": {
    "name": "ipython",
    "version": 3
   },
   "file_extension": ".py",
   "mimetype": "text/x-python",
   "name": "python",
   "nbconvert_exporter": "python",
   "pygments_lexer": "ipython3",
   "version": "3.11.5"
  }
 },
 "nbformat": 4,
 "nbformat_minor": 1
}
