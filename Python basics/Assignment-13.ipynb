{
 "cells": [
  {
   "cell_type": "markdown",
   "metadata": {
    "id": "mCw3KJLdRfiF"
   },
   "source": [
    " Q.1. Create two int type variables, apply addition, subtraction, division and multiplications\n",
    " and store the results in variables. Then print the data in the following format by calling the\n",
    " variables:\n",
    " First variable is __ & second variable is __.\n",
    " Addition: __ + __ = __\n",
    " Subtraction: __- __ = __\n",
    " Multiplication: __ * __ = __\n",
    " Division: __ / __ = __"
   ]
  },
  {
   "cell_type": "code",
   "execution_count": null,
   "metadata": {
    "id": "_uIq99vDRcmK"
   },
   "outputs": [],
   "source": [
    "# Define two integer variables\n",
    "first_var = 10\n",
    "second_var = 5\n",
    "\n",
    "# Perform the operations and store the results\n",
    "addition = first_var + second_var\n",
    "subtraction = first_var - second_var\n",
    "multiplication = first_var * second_var\n",
    "division = first_var / second_var\n",
    "\n",
    "# Print the results in the specified format\n",
    "print(f\"First variable is {first_var} & second variable is {second_var}.\")\n",
    "print(f\"Addition: {first_var} + {second_var} = {addition}\")\n",
    "print(f\"Subtraction: {first_var} - {second_var} = {subtraction}\")\n",
    "print(f\"Multiplication: {first_var} * {second_var} = {multiplication}\")\n",
    "print(f\"Division: {first_var} / {second_var} = {division}\")\n"
   ]
  },
  {
   "cell_type": "markdown",
   "metadata": {
    "id": "71DVnnnJR4SK"
   },
   "source": [
    "Q.2. What is the difference between the following operators:\n",
    " (i)  ‘/’ & ‘//’\n",
    " (ii) ‘**’ & ‘^’"
   ]
  },
  {
   "cell_type": "markdown",
   "metadata": {
    "id": "WD0lBdAPSSdp"
   },
   "source": [
    "/ (Division): This operator performs floating-point division, meaning the result is always a floating-point number, even if the division is exact.\n",
    "// (Floor Division): This operator performs integer division, which returns the largest integer less than or equal to the result. The decimal part is discarded."
   ]
  },
  {
   "cell_type": "code",
   "execution_count": null,
   "metadata": {
    "id": "D9RaLVZiR_jj"
   },
   "outputs": [],
   "source": [
    "# Using / for floating-point division\n",
    "result1 = 7 / 2\n",
    "print(\"7 / 2 = \", result1)  # Output: 3.5 (float)\n",
    "\n",
    "# Using // for floor division\n",
    "result2 = 7 // 2\n",
    "print(\"7 // 2 = \", result2)  # Output: 3 (integer)\n"
   ]
  },
  {
   "cell_type": "markdown",
   "metadata": {
    "id": "jhouzCqWSTxo"
   },
   "source": [
    "** (Exponentiation): This operator is used to raise a number to a power. For example, 2 ** 3 means 2 raised to the power of 3.\n",
    "^ (XOR - Bitwise Exclusive OR): This is a bitwise operator that compares the corresponding bits of two numbers. It returns 1 if the bits are different and 0 if they are the same."
   ]
  },
  {
   "cell_type": "code",
   "execution_count": null,
   "metadata": {
    "id": "Yd8s_VLDSZdc"
   },
   "outputs": [],
   "source": [
    "# Using ** for exponentiation\n",
    "result1 = 2 ** 3\n",
    "print(\"2 ** 3 = \", result1)  # Output: 8 (2 raised to the power of 3)\n",
    "\n",
    "# Using ^ for bitwise XOR\n",
    "result2 = 5 ^ 3\n",
    "print(\"5 ^ 3 = \", result2)  # Output: 6 (binary: 101 ^ 011 = 110, which is 6)\n"
   ]
  },
  {
   "cell_type": "markdown",
   "metadata": {
    "id": "Lc9grWRhSfMz"
   },
   "source": [
    " Q.3. List the logical operators"
   ]
  },
  {
   "cell_type": "markdown",
   "metadata": {
    "id": "0n4JU-v6Sl45"
   },
   "source": [
    "and:\n",
    "The and operator returns True if both conditions are True.\n",
    "\n",
    "\n",
    "or:\n",
    "The or operator returns True if at least one condition is True.\n",
    "\n",
    "\n",
    "not:\n",
    "The not operator inverts the condition: it returns True if the condition is False, and False if the condition is True."
   ]
  },
  {
   "cell_type": "code",
   "execution_count": null,
   "metadata": {
    "id": "IfBnBF4_SfoH"
   },
   "outputs": [],
   "source": [
    "x = 5\n",
    "y = 10\n",
    "print(x > 3 and y < 15)\n"
   ]
  },
  {
   "cell_type": "code",
   "execution_count": null,
   "metadata": {
    "id": "QqDbUqdrS0ho"
   },
   "outputs": [],
   "source": [
    "x = 5\n",
    "y = 10\n",
    "print(x > 3 or y > 20)\n"
   ]
  },
  {
   "cell_type": "code",
   "execution_count": null,
   "metadata": {
    "id": "ZNsrNU5IS13z"
   },
   "outputs": [],
   "source": [
    "x = 5\n",
    "print(not(x > 10))\n"
   ]
  },
  {
   "cell_type": "markdown",
   "metadata": {
    "id": "iHWkfKBMS7xx"
   },
   "source": [
    " Q.4. Explain right shift operator and left shift operator with examples"
   ]
  },
  {
   "cell_type": "code",
   "execution_count": null,
   "metadata": {
    "id": "R-5zfWXmTSUT"
   },
   "outputs": [],
   "source": [
    "# Right Shift Operator (>>):\n",
    "\n",
    "\n",
    "# Example:\n",
    "number = 10  # Binary: 1010\n",
    "shift_amount = 2\n",
    "\n",
    "result = number >> shift_amount\n",
    "\n",
    "print(f\"{number} right-shifted by {shift_amount} bits: {result}\")\n",
    "\n",
    "\n",
    "# Left Shift Operator (<<):\n",
    "\n",
    "\n",
    "\n",
    "number = 5\n",
    "shift_amount = 2\n",
    "\n",
    "result = number << shift_amount\n",
    "\n",
    "print(f\"{number} left-shifted by {shift_amount} bits: {result}\")"
   ]
  },
  {
   "cell_type": "markdown",
   "metadata": {
    "id": "9nufQ9LyTZEu"
   },
   "source": [
    " Q.5. Create a list containing int type data of length 15. Then write a code to check if 10 is\n",
    " present in the list or not"
   ]
  },
  {
   "cell_type": "code",
   "execution_count": null,
   "metadata": {
    "id": "DZWx2ub9Tgb1"
   },
   "outputs": [],
   "source": [
    "my_list = [1, 5, 8, 10, 15, 20, 25, 30, 35, 40, 45, 50, 55, 60, 65]\n",
    "\n",
    "if 10 in my_list:\n",
    "  print(\"10 is present in the list.\")\n",
    "else:\n",
    "  print(\"10 is not present in the list.\")"
   ]
  }
 ],
 "metadata": {
  "colab": {
   "provenance": []
  },
  "kernelspec": {
   "display_name": "Python 3 (ipykernel)",
   "language": "python",
   "name": "python3"
  },
  "language_info": {
   "codemirror_mode": {
    "name": "ipython",
    "version": 3
   },
   "file_extension": ".py",
   "mimetype": "text/x-python",
   "name": "python",
   "nbconvert_exporter": "python",
   "pygments_lexer": "ipython3",
   "version": "3.11.5"
  }
 },
 "nbformat": 4,
 "nbformat_minor": 1
}
