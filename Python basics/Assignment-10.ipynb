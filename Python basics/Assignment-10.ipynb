{
 "cells": [
  {
   "cell_type": "markdown",
   "metadata": {},
   "source": [
    "1. What is the role of try and exception block?"
   ]
  },
  {
   "cell_type": "markdown",
   "metadata": {},
   "source": [
    "The try block allows you to write code that might raise exceptions. If an exception occurs, Python immediately stops executing the try block and jumps to the corresponding except block, where the exception is handled. This mechanism helps prevent the program from crashing due to unhandled errors."
   ]
  },
  {
   "cell_type": "markdown",
   "metadata": {},
   "source": [
    "2. What is the syntax for a basic try-except block? "
   ]
  },
  {
   "cell_type": "markdown",
   "metadata": {},
   "source": [
    "The try block allows you to write code that might raise exceptions occurs, Python immediately stops executing the try block and jumps to the corresponding except block, where the exception is handled. This mechanism helps prevent the program from crashing due to unhandled errors."
   ]
  },
  {
   "cell_type": "markdown",
   "metadata": {},
   "source": []
  },
  {
   "cell_type": "markdown",
   "metadata": {},
   "source": [
    "2. What is the syntax for a basic try-except block?"
   ]
  },
  {
   "cell_type": "code",
   "execution_count": null,
   "metadata": {},
   "outputs": [],
   "source": [
    "try:\n",
    "    # Code to raise an exception\n",
    "except ExceptionType:\n",
    "    # Code to handle the exception"
   ]
  },
  {
   "cell_type": "markdown",
   "metadata": {},
   "source": []
  },
  {
   "cell_type": "markdown",
   "metadata": {},
   "source": [
    "3. What happens if an exception occurs inside a try block and there is no matching except block?\n"
   ]
  },
  {
   "cell_type": "markdown",
   "metadata": {},
   "source": [
    "If there is no matching except block to handle the raised exception, the program will terminate, and Python will print a traceback message showing the exception type and where it occurred."
   ]
  },
  {
   "cell_type": "markdown",
   "metadata": {},
   "source": [
    "4. What is the difference between using a bare except block and specifying a specific exception type?\n"
   ]
  },
  {
   "cell_type": "markdown",
   "metadata": {},
   "source": [
    "Bare except block: Catches all exceptions, regardless of type. This can make debugging difficult because it may also catch unexpected or system-related exceptions (like KeyboardInterrupt).\n",
    "Specific exception type: Catches only the specified exception, allowing for more precise error handling."
   ]
  },
  {
   "cell_type": "markdown",
   "metadata": {},
   "source": [
    "5. Can you have nested try-except blocks in Python? If yes, give an example.\n"
   ]
  },
  {
   "cell_type": "code",
   "execution_count": null,
   "metadata": {},
   "outputs": [],
   "source": [
    "try:\n",
    "    x = int(input(\"Enter a number: \"))\n",
    "    try:\n",
    "        result = 10 / x\n",
    "        print(\"Result:\", result)\n",
    "    except ZeroDivisionError:\n",
    "        print(\"You cannot divide by zero.\")\n",
    "except ValueError:\n",
    "    print(\"Please enter a valid integer.\")"
   ]
  },
  {
   "cell_type": "markdown",
   "metadata": {},
   "source": [
    "6. Can we use multiple exception blocks? If yes, give an example."
   ]
  },
  {
   "cell_type": "code",
   "execution_count": null,
   "metadata": {},
   "outputs": [],
   "source": [
    "try:\n",
    "    x = int(input(\"Enter a number: \"))\n",
    "    result = 10 / x\n",
    "except ValueError:\n",
    "    print(\"Invalid input. Please enter a valid integer.\")\n",
    "except ZeroDivisionError:\n",
    "    print(\"You cannot divide by zero.\")"
   ]
  },
  {
   "cell_type": "markdown",
   "metadata": {},
   "source": [
    "7. Reasons for specific errors:\n"
   ]
  },
  {
   "cell_type": "markdown",
   "metadata": {},
   "source": [
    "EOFError: Raised when input() or raw_input() reaches an end-of-file condition (Ctrl+D in Linux/Mac or Ctrl+Z in Windows).\n",
    "FloatingPointError: Raised when a floating-point operation fails (rare; disabled by default).\n",
    "IndexError: Raised when accessing an index outside the range of a list or tuple.\n",
    "MemoryError: Raised when an operation runs out of memory.\n",
    "OverflowError: Raised when a numeric calculation exceeds the maximum limit for a numeric type.\n",
    "TabError: Raised when there is an inconsistency in the use of tabs and spaces for indentation.\n",
    "ValueError: Raised when an operation receives an argument of the correct type but an inappropriate value."
   ]
  },
  {
   "cell_type": "markdown",
   "metadata": {},
   "source": [
    "8\n",
    "a. Program to divide two numbers"
   ]
  },
  {
   "cell_type": "code",
   "execution_count": null,
   "metadata": {},
   "outputs": [],
   "source": [
    "try:\n",
    "    a = int(input(\"Enter the numerator: \"))\n",
    "    b = int(input(\"Enter the denominator: \"))\n",
    "    result = a / b\n",
    "    print(\"Result:\", result)\n",
    "except ZeroDivisionError:\n",
    "    print(\"Error: Cannot divide by zero.\")\n",
    "except ValueError:\n",
    "    print(\"Error: Please enter valid numbers.\")"
   ]
  },
  {
   "cell_type": "markdown",
   "metadata": {},
   "source": [
    "b. Program to convert a string to an integer"
   ]
  },
  {
   "cell_type": "code",
   "execution_count": null,
   "metadata": {},
   "outputs": [],
   "source": [
    "try:\n",
    "    s = input(\"Enter a number as a string: \")\n",
    "    num = int(s)\n",
    "    print(\"Converted number:\", num)\n",
    "except ValueError:\n",
    "    print(\"Error: Invalid input. Cannot convert to integer.\")"
   ]
  },
  {
   "cell_type": "markdown",
   "metadata": {},
   "source": [
    "c. Program to access an element in a list"
   ]
  },
  {
   "cell_type": "code",
   "execution_count": null,
   "metadata": {},
   "outputs": [],
   "source": [
    "try:\n",
    "    lst = [1, 2, 3]\n",
    "    index = int(input(\"Enter the index to access: \"))\n",
    "    print(\"Element at index\", index, \"is\", lst[index])\n",
    "except IndexError:\n",
    "    print(\"Error: Index out of range.\")\n",
    "except ValueError:\n",
    "    print(\"Error: Please enter a valid integer.\")"
   ]
  },
  {
   "cell_type": "markdown",
   "metadata": {},
   "source": [
    "d. Program to handle a specific exception"
   ]
  },
  {
   "cell_type": "code",
   "execution_count": null,
   "metadata": {},
   "outputs": [],
   "source": [
    "try:\n",
    "    import non_existing_module\n",
    "except ModuleNotFoundError:\n",
    "    print(\"Error: The module does not exist.\")"
   ]
  },
  {
   "cell_type": "markdown",
   "metadata": {},
   "source": [
    "e. Program to handle any exception"
   ]
  },
  {
   "cell_type": "code",
   "execution_count": null,
   "metadata": {},
   "outputs": [],
   "source": [
    "try:\n",
    "    x = int(input(\"Enter a number: \"))\n",
    "    result = 10 / x\n",
    "    print(\"Result:\", result)\n",
    "except Exception as e:\n",
    "    print(f\"An error occurred: {e}\")"
   ]
  }
 ],
 "metadata": {
  "kernelspec": {
   "display_name": "Python 3 (ipykernel)",
   "language": "python",
   "name": "python3"
  },
  "language_info": {
   "codemirror_mode": {
    "name": "ipython",
    "version": 3
   },
   "file_extension": ".py",
   "mimetype": "text/x-python",
   "name": "python",
   "nbconvert_exporter": "python",
   "pygments_lexer": "ipython3",
   "version": "3.11.5"
  }
 },
 "nbformat": 4,
 "nbformat_minor": 2
}
